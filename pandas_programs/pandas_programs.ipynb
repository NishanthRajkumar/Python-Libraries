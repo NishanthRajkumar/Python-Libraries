{
 "cells": [
  {
   "cell_type": "markdown",
   "metadata": {},
   "source": [
    "```\n",
    "    @Author: Nishanth\n",
    "    @Date: 07-04-2022 12:29:00\n",
    "    @Last Modified by: Nishanth\n",
    "    @Last Modified Date: 07-04-2022 18:54:00\n",
    "    @Title: A list of practice pandas programs\n",
    "```"
   ]
  },
  {
   "cell_type": "markdown",
   "metadata": {},
   "source": [
    "**Import required libraries**"
   ]
  },
  {
   "cell_type": "code",
   "execution_count": 1,
   "metadata": {},
   "outputs": [],
   "source": [
    "import pandas as pd"
   ]
  },
  {
   "cell_type": "markdown",
   "metadata": {},
   "source": [
    "1. **Write a Python program to create and display a one-dimensional array-like object\n",
    "containing an array of data using Pandas module**"
   ]
  },
  {
   "cell_type": "code",
   "execution_count": 5,
   "metadata": {},
   "outputs": [
    {
     "name": "stdout",
     "output_type": "stream",
     "text": [
      "Pandas Series:\n",
      "0    12\n",
      "1    34\n",
      "2    56\n",
      "3    78\n",
      "dtype: int64\n"
     ]
    }
   ],
   "source": [
    "# Create an array like object using pandas module\n",
    "pd_series = pd.Series([12, 34, 56, 78])\n",
    "\n",
    "print(f\"Pandas Series:\\n{pd_series}\")"
   ]
  },
  {
   "cell_type": "markdown",
   "metadata": {},
   "source": [
    "2. **Write a Python program to convert a Panda module Series to Python list and it's type.**"
   ]
  },
  {
   "cell_type": "code",
   "execution_count": 6,
   "metadata": {},
   "outputs": [],
   "source": [
    "def series_to_list(pd_series: pd.Series):\n",
    "    \"\"\"\n",
    "        Description:\n",
    "            Converts pandas series to list\n",
    "        \n",
    "        Paramter:\n",
    "            pd_series: a pandas series\n",
    "        \n",
    "        Return:\n",
    "            None\n",
    "    \"\"\"\n",
    "    list_from_series = pd_series.to_list()\n",
    "    print(f\"Pandas Series:\\n{pd_series}\")\n",
    "    print(f\"Converted list:\\n{list_from_series}\")"
   ]
  },
  {
   "cell_type": "code",
   "execution_count": 7,
   "metadata": {},
   "outputs": [
    {
     "name": "stdout",
     "output_type": "stream",
     "text": [
      "Pandas Series:\n",
      "0    12\n",
      "1    34\n",
      "2    56\n",
      "3    78\n",
      "dtype: int64\n",
      "Converted list:\n",
      "[12, 34, 56, 78]\n"
     ]
    }
   ],
   "source": [
    "# Using series_to_list() convert a pd.Series to a list\n",
    "pd_series = pd.Series([12, 34, 56, 78])\n",
    "series_to_list(pd_series)"
   ]
  },
  {
   "cell_type": "markdown",
   "metadata": {},
   "source": [
    "3. **Write a Python program to add, subtract, multiple and divide two Pandas Series**\n",
    "\n",
    "    Sample Series: [2, 4, 6, 8, 10], [1, 3, 5, 7, 9]"
   ]
  },
  {
   "cell_type": "code",
   "execution_count": 18,
   "metadata": {},
   "outputs": [],
   "source": [
    "def series_math_op(series1: pd.Series, series2: pd.Series):\n",
    "    \"\"\"\n",
    "        Description:\n",
    "            Various math operations done on the 2 series\n",
    "        \n",
    "        Paramter:\n",
    "            series1, series2: 2 pandas series\n",
    "        \n",
    "        Return:\n",
    "            None\n",
    "    \"\"\"\n",
    "    print(f\"series1: {series1.values}\\nseries2: {series2.values}\")\n",
    "    print(f\"series1 + series2: {(series1 + series2).values}\")\n",
    "    print(f\"series1 - series2: {(series1 - series2).values}\")\n",
    "    print(f\"series1 * series2: {(series1 * series2).values}\")\n",
    "    print(f\"series1 / series2: {(series1 / series2).values}\")"
   ]
  },
  {
   "cell_type": "code",
   "execution_count": 19,
   "metadata": {},
   "outputs": [
    {
     "name": "stdout",
     "output_type": "stream",
     "text": [
      "series1: [ 2  4  6  8 10]\n",
      "series2: [1 3 5 7 9]\n",
      "series1 + series2: [ 3  7 11 15 19]\n",
      "series1 - series2: [1 1 1 1 1]\n",
      "series1 * series2: [ 2 12 30 56 90]\n",
      "series1 / series2: [2.         1.33333333 1.2        1.14285714 1.11111111]\n"
     ]
    }
   ],
   "source": [
    "# Using series_math_op() compute math operations on 2 series data\n",
    "ser1 = pd.Series([2, 4, 6, 8, 10])\n",
    "ser2 = pd.Series([1, 3, 5, 7, 9])\n",
    "series_math_op(ser1, ser2)"
   ]
  }
 ],
 "metadata": {
  "interpreter": {
   "hash": "b89b5cfaba6639976dc87ff2fec6d58faec662063367e2c229c520fe71072417"
  },
  "kernelspec": {
   "display_name": "Python 3.10.2 64-bit",
   "language": "python",
   "name": "python3"
  },
  "language_info": {
   "codemirror_mode": {
    "name": "ipython",
    "version": 3
   },
   "file_extension": ".py",
   "mimetype": "text/x-python",
   "name": "python",
   "nbconvert_exporter": "python",
   "pygments_lexer": "ipython3",
   "version": "3.10.2"
  },
  "orig_nbformat": 4
 },
 "nbformat": 4,
 "nbformat_minor": 2
}
