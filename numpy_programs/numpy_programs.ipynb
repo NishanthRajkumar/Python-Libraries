{
 "cells": [
  {
   "cell_type": "markdown",
   "metadata": {},
   "source": [
    "    @Author: Nishanth\n",
    "    @Date: 06-04-2022 11:20:00\n",
    "    @Last Modified by: Nishanth\n",
    "    @Last Modified Date: 06-04-2022 11:20:00\n",
    "    @Title: A list practice numpy programs"
   ]
  },
  {
   "cell_type": "markdown",
   "metadata": {},
   "source": [
    "**Import Necessary Libraries**"
   ]
  },
  {
   "cell_type": "code",
   "execution_count": 1,
   "metadata": {},
   "outputs": [],
   "source": [
    "import numpy as np"
   ]
  },
  {
   "cell_type": "markdown",
   "metadata": {},
   "source": [
    "1. **Write a Python program to convert a list of numeric value into a one-dimensional NumPy array**\n",
    "\n",
    "    Expected Output: Original List: [12.23, 13.32, 100, 36.32]\n",
    "    \n",
    "    One-dimensional numpy array: [ 12.23 13.32 100. 36.32]"
   ]
  },
  {
   "cell_type": "code",
   "execution_count": 3,
   "metadata": {},
   "outputs": [
    {
     "name": "stdout",
     "output_type": "stream",
     "text": [
      "Original List: [12.23, 13.32, 100, 36.32]\n",
      "NumPy array: [ 12.23  13.32 100.    36.32]\n",
      "NumPy array type: float64\n"
     ]
    }
   ],
   "source": [
    "#Create a list and use it to create numpy array\n",
    "original_list = [12.23, 13.32, 100, 36.32]\n",
    "array_from_list = np.array(original_list)\n",
    "\n",
    "#Print the list and numpy array created\n",
    "print(f\"Original List: {original_list}\")\n",
    "print(f\"NumPy array: {array_from_list}\")\n",
    "print(f\"NumPy array type: {array_from_list.dtype}\")"
   ]
  }
 ],
 "metadata": {
  "interpreter": {
   "hash": "b89b5cfaba6639976dc87ff2fec6d58faec662063367e2c229c520fe71072417"
  },
  "kernelspec": {
   "display_name": "Python 3.10.2 64-bit",
   "language": "python",
   "name": "python3"
  },
  "language_info": {
   "codemirror_mode": {
    "name": "ipython",
    "version": 3
   },
   "file_extension": ".py",
   "mimetype": "text/x-python",
   "name": "python",
   "nbconvert_exporter": "python",
   "pygments_lexer": "ipython3",
   "version": "3.10.2"
  },
  "orig_nbformat": 4
 },
 "nbformat": 4,
 "nbformat_minor": 2
}
