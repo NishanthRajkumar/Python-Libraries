{
 "cells": [
  {
   "cell_type": "markdown",
   "metadata": {},
   "source": [
    "    @Author: Nishanth\n",
    "    @Date: 06-04-2022 11:20:00\n",
    "    @Last Modified by: Nishanth\n",
    "    @Last Modified Date: 06-04-2022 11:20:00\n",
    "    @Title: A list practice numpy programs"
   ]
  },
  {
   "cell_type": "markdown",
   "metadata": {},
   "source": [
    "**Import Necessary Libraries**"
   ]
  },
  {
   "cell_type": "code",
   "execution_count": 9,
   "metadata": {},
   "outputs": [],
   "source": [
    "import numpy as np"
   ]
  },
  {
   "cell_type": "markdown",
   "metadata": {},
   "source": [
    "1. **Write a Python program to convert a list of numeric value into a one-dimensional NumPy array**\n",
    "\n",
    "    Expected Output: Original List: [12.23, 13.32, 100, 36.32]\\\n",
    "    One-dimensional numpy array: [ 12.23 13.32 100. 36.32]"
   ]
  },
  {
   "cell_type": "code",
   "execution_count": 10,
   "metadata": {},
   "outputs": [
    {
     "name": "stdout",
     "output_type": "stream",
     "text": [
      "Original List: [12.23, 13.32, 100, 36.32]\n",
      "NumPy array: [ 12.23  13.32 100.    36.32]\n",
      "NumPy array type: float64\n"
     ]
    }
   ],
   "source": [
    "#Create a list and use it to create numpy array\n",
    "original_list = [12.23, 13.32, 100, 36.32]\n",
    "array_from_list = np.array(original_list)\n",
    "\n",
    "#Print the list and numpy array created\n",
    "print(f\"Original List: {original_list}\")\n",
    "print(f\"NumPy array: {array_from_list}\")\n",
    "print(f\"NumPy array type: {array_from_list.dtype}\")"
   ]
  },
  {
   "cell_type": "markdown",
   "metadata": {},
   "source": [
    "2. **Create a 3x3 matrix with values ranging from 2 to 10**\n",
    "\n",
    "    Expected Output:\\\n",
    "    [[ 2 3 4]\\\n",
    "    [ 5 6 7]\\\n",
    "    [ 8 9 10]]"
   ]
  },
  {
   "cell_type": "code",
   "execution_count": 11,
   "metadata": {},
   "outputs": [
    {
     "name": "stdout",
     "output_type": "stream",
     "text": [
      "The 3x3 matrix:\n",
      "[[ 2  3  4]\n",
      " [ 5  6  7]\n",
      " [ 8  9 10]]\n"
     ]
    }
   ],
   "source": [
    "#Create numpy array using arange and reshape it to 3x3 matrix\n",
    "new_array = np.arange(2,11).reshape((3,3))\n",
    "\n",
    "print(f\"The 3x3 matrix:\\n{new_array}\")"
   ]
  },
  {
   "cell_type": "markdown",
   "metadata": {},
   "source": [
    "3. **Write a Python program to create a null vector of size 10 and update sixth value to 11**\n",
    "\n",
    "    [ 0. 0. 0. 0. 0. 0. 0. 0. 0. 0.]\\\n",
    "    Update sixth value to 11\\\n",
    "    [ 0. 0. 0. 0. 0. 0. 11. 0. 0. 0.]"
   ]
  },
  {
   "cell_type": "code",
   "execution_count": 12,
   "metadata": {},
   "outputs": [
    {
     "name": "stdout",
     "output_type": "stream",
     "text": [
      "Null vector: [0. 0. 0. 0. 0. 0. 0. 0. 0. 0.]\n",
      "Updated vector: [ 0.  0.  0.  0.  0.  0. 11.  0.  0.  0.]\n"
     ]
    }
   ],
   "source": [
    "#Create a null array of size 10\n",
    "vector_10 = np.zeros(10)\n",
    "print(f\"Null vector: {vector_10}\")\n",
    "\n",
    "vector_10[6] = 11\n",
    "print(f\"Updated vector: {vector_10}\")"
   ]
  },
  {
   "cell_type": "markdown",
   "metadata": {},
   "source": [
    "4. **Write a Python program to reverse an array (first element becomes last)**\n",
    "\n",
    "    Original array:\\\n",
    "    [12 13 14 15 16 17 18 19 20 21 22 23 24 25 26 27 28 29 30 31 32 33 34 35 36 37]\\\n",
    "    Reverse array:\\\n",
    "    [37 36 35 34 33 32 31 30 29 28 27 26 25 24 23 22 21 20 19 18 17 16 15 14 13 12]"
   ]
  },
  {
   "cell_type": "code",
   "execution_count": 15,
   "metadata": {},
   "outputs": [
    {
     "name": "stdout",
     "output_type": "stream",
     "text": [
      "Original array:\n",
      "[12 13 14 15 16 17 18 19 20 21 22 23 24 25 26 27 28 29 30 31 32 33 34 35\n",
      " 36 37]\n",
      "Reversed array:\n",
      "[37 36 35 34 33 32 31 30 29 28 27 26 25 24 23 22 21 20 19 18 17 16 15 14\n",
      " 13 12]\n"
     ]
    }
   ],
   "source": [
    "#Create an array ranging from 12 to 37\n",
    "original_arr = np.arange(12,38)\n",
    "print(f\"Original array:\\n{original_arr}\")\n",
    "\n",
    "#Reverse the array\n",
    "reversed_arr = original_arr[::-1]\n",
    "print(f\"Reversed array:\\n{reversed_arr}\")"
   ]
  },
  {
   "cell_type": "markdown",
   "metadata": {},
   "source": [
    "5. **Write a Python program to create a 2d array with 1 on the border and 0 inside**\n",
    "\n",
    "    Expected Output:\\\n",
    "    Original array:\\\n",
    "    [[ 1. 1. 1. 1. 1.]\\\n",
    "    [ 1. 1. 1. 1. 1.]\\\n",
    "    [ 1. 1. 1. 1. 1.]\\\n",
    "    [ 1. 1. 1. 1. 1.]\\\n",
    "    [ 1. 1. 1. 1. 1.]]\n",
    "\n",
    "    1 on the border and 0 inside in the array\\\n",
    "    [[ 1. 1. 1. 1. 1.]\\\n",
    "    [ 1. 0. 0. 0. 1.]\\\n",
    "    [ 1. 0. 0. 0. 1.]\\\n",
    "    [ 1. 0. 0. 0. 1.]\\\n",
    "    [ 1. 1. 1. 1. 1.]]"
   ]
  },
  {
   "cell_type": "code",
   "execution_count": 20,
   "metadata": {},
   "outputs": [],
   "source": [
    "#Method to create bordered arrays 1 as border\n",
    "def bordered_arrays_one(rows: int, cols: int):\n",
    "    \"\"\"\n",
    "        Description:\n",
    "            Creates a 2d array of dimension rows x cols.\n",
    "            Sets the border values to 1, and insides as 0\n",
    "        \n",
    "        Parameter:\n",
    "            rows: row dimension\n",
    "            cols: column dimension\n",
    "        \n",
    "        Return:\n",
    "            None\n",
    "    \"\"\"\n",
    "    if rows < 3 or cols < 3:\n",
    "        print(\"Rows and columns must be greater than 2\")\n",
    "        return None\n",
    "    #create an array filled with 1 of dimension 5X5\n",
    "    border_arr = np.ones((rows,cols))\n",
    "    print(f\"Original array:\\n{border_arr}\")\n",
    "\n",
    "    #Set values inside border as 0\n",
    "    border_arr[1:-1,1:-1] = 0\n",
    "    print(f\"Bordered array:\\n{border_arr}\")"
   ]
  },
  {
   "cell_type": "code",
   "execution_count": 22,
   "metadata": {},
   "outputs": [
    {
     "name": "stdout",
     "output_type": "stream",
     "text": [
      "Original array:\n",
      "[[1. 1. 1. 1.]\n",
      " [1. 1. 1. 1.]\n",
      " [1. 1. 1. 1.]\n",
      " [1. 1. 1. 1.]\n",
      " [1. 1. 1. 1.]]\n",
      "Bordered array:\n",
      "[[1. 1. 1. 1.]\n",
      " [1. 0. 0. 1.]\n",
      " [1. 0. 0. 1.]\n",
      " [1. 0. 0. 1.]\n",
      " [1. 1. 1. 1.]]\n"
     ]
    }
   ],
   "source": [
    "#create bordered arrays using the bordered_arrays_one function\n",
    "bordered_arrays_one(5,4)"
   ]
  },
  {
   "cell_type": "markdown",
   "metadata": {},
   "source": [
    "6. **Write a Python program to add a border (filled with 0's) around an existing array**\n",
    "    Expected Output:\\\n",
    "    Original array:\\\n",
    "    [[ 1. 1. 1.]\\\n",
    "    [ 1. 1. 1.]\\\n",
    "    [ 1. 1. 1.]]\\\n",
    "    1 on the border and 0 inside in the array\\\n",
    "    [[ 0. 0. 0. 0. 0.]\\\n",
    "    [ 0. 1. 1. 1. 0.]\\\n",
    "    [ 0. 1. 1. 1. 0.]\\\n",
    "    [ 0. 1. 1. 1. 0.]\\\n",
    "    [ 0. 0. 0. 0. 0.]]"
   ]
  },
  {
   "cell_type": "code",
   "execution_count": 29,
   "metadata": {},
   "outputs": [],
   "source": [
    "#Method to create bordered arrays, 0 as border\n",
    "def bordered_arrays_zero(zero_arr: np.ndarray):\n",
    "    \"\"\"\n",
    "        Description:\n",
    "            Creates a 2d array of dimension rows x cols.\n",
    "            Sets the border values to 0, and insides as 1\n",
    "        \n",
    "        Parameter:\n",
    "            zero_arr: 2D array\n",
    "        \n",
    "        Return:\n",
    "            None\n",
    "    \"\"\"\n",
    "    if zero_arr.ndim != 2:\n",
    "        print(\"Must be a 2D array\")\n",
    "        return None\n",
    "    rows, cols = zero_arr.shape\n",
    "    if rows < 3 or cols < 3:\n",
    "        print(\"Rows and columns must be greater than 2\")\n",
    "        return None\n",
    "    #create an array filled with 0's\n",
    "    border_arr = np.zeros((rows+1,cols+1))\n",
    "\n",
    "    #Set values inside border as 1\n",
    "    border_arr[1:-1,1:-1] = 1\n",
    "    print(f\"Original array:\\n{zero_arr}\")\n",
    "    print(f\"Bordered array:\\n{border_arr}\")"
   ]
  },
  {
   "cell_type": "code",
   "execution_count": 32,
   "metadata": {},
   "outputs": [
    {
     "name": "stdout",
     "output_type": "stream",
     "text": [
      "Bordered array:\n",
      "[[1. 1. 1. 1. 1. 1.]\n",
      " [1. 1. 1. 1. 1. 1.]\n",
      " [1. 1. 1. 1. 1. 1.]\n",
      " [1. 1. 1. 1. 1. 1.]\n",
      " [1. 1. 1. 1. 1. 1.]]\n",
      "Bordered array:\n",
      "[[0. 0. 0. 0. 0. 0. 0.]\n",
      " [0. 1. 1. 1. 1. 1. 0.]\n",
      " [0. 1. 1. 1. 1. 1. 0.]\n",
      " [0. 1. 1. 1. 1. 1. 0.]\n",
      " [0. 1. 1. 1. 1. 1. 0.]\n",
      " [0. 0. 0. 0. 0. 0. 0.]]\n"
     ]
    }
   ],
   "source": [
    "#create bordered arrays using the bordered_arrays_zero function\n",
    "sample_zero_arr = np.ones((5,6))\n",
    "bordered_arrays_zero(sample_zero_arr)"
   ]
  }
 ],
 "metadata": {
  "interpreter": {
   "hash": "b89b5cfaba6639976dc87ff2fec6d58faec662063367e2c229c520fe71072417"
  },
  "kernelspec": {
   "display_name": "Python 3.10.2 64-bit",
   "language": "python",
   "name": "python3"
  },
  "language_info": {
   "codemirror_mode": {
    "name": "ipython",
    "version": 3
   },
   "file_extension": ".py",
   "mimetype": "text/x-python",
   "name": "python",
   "nbconvert_exporter": "python",
   "pygments_lexer": "ipython3",
   "version": "3.10.2"
  },
  "orig_nbformat": 4
 },
 "nbformat": 4,
 "nbformat_minor": 2
}
