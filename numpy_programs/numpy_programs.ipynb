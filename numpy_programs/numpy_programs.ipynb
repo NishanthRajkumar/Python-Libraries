{
 "cells": [
  {
   "cell_type": "markdown",
   "metadata": {},
   "source": [
    "```\n",
    "    @Author: Nishanth\n",
    "    @Date: 06-04-2022 11:20:00\n",
    "    @Last Modified by: Nishanth\n",
    "    @Last Modified Date: 07-04-2022 09:26:00\n",
    "    @Title: A list practice numpy programs\n",
    "```"
   ]
  },
  {
   "cell_type": "markdown",
   "metadata": {},
   "source": [
    "**Import Necessary Libraries**"
   ]
  },
  {
   "cell_type": "code",
   "execution_count": 2,
   "metadata": {},
   "outputs": [],
   "source": [
    "import numpy as np"
   ]
  },
  {
   "cell_type": "markdown",
   "metadata": {},
   "source": [
    "1. **Write a Python program to convert a list of numeric value into a one-dimensional NumPy array**\n",
    "\n",
    "    Expected Output: Original List: [12.23, 13.32, 100, 36.32]\\\n",
    "    One-dimensional numpy array: [ 12.23 13.32 100. 36.32]"
   ]
  },
  {
   "cell_type": "code",
   "execution_count": 3,
   "metadata": {},
   "outputs": [
    {
     "name": "stdout",
     "output_type": "stream",
     "text": [
      "Original List: [12.23, 13.32, 100, 36.32]\n",
      "NumPy array: [ 12.23  13.32 100.    36.32]\n",
      "NumPy array type: float64\n"
     ]
    }
   ],
   "source": [
    "#Create a list and use it to create numpy array\n",
    "original_list = [12.23, 13.32, 100, 36.32]\n",
    "array_from_list = np.array(original_list)\n",
    "\n",
    "#Print the list and numpy array created\n",
    "print(f\"Original List: {original_list}\")\n",
    "print(f\"NumPy array: {array_from_list}\")\n",
    "print(f\"NumPy array type: {array_from_list.dtype}\")"
   ]
  },
  {
   "cell_type": "markdown",
   "metadata": {},
   "source": [
    "2. **Create a 3x3 matrix with values ranging from 2 to 10**\n",
    "\n",
    "    Expected Output:\\\n",
    "    [[ 2 3 4]\\\n",
    "    [ 5 6 7]\\\n",
    "    [ 8 9 10]]"
   ]
  },
  {
   "cell_type": "code",
   "execution_count": 4,
   "metadata": {},
   "outputs": [
    {
     "name": "stdout",
     "output_type": "stream",
     "text": [
      "The 3x3 matrix:\n",
      "[[ 2  3  4]\n",
      " [ 5  6  7]\n",
      " [ 8  9 10]]\n"
     ]
    }
   ],
   "source": [
    "#Create numpy array using arange and reshape it to 3x3 matrix\n",
    "new_array = np.arange(2,11).reshape((3,3))\n",
    "\n",
    "print(f\"The 3x3 matrix:\\n{new_array}\")"
   ]
  },
  {
   "cell_type": "markdown",
   "metadata": {},
   "source": [
    "3. **Write a Python program to create a null vector of size 10 and update sixth value to 11**\n",
    "\n",
    "    [ 0. 0. 0. 0. 0. 0. 0. 0. 0. 0.]\\\n",
    "    Update sixth value to 11\\\n",
    "    [ 0. 0. 0. 0. 0. 0. 11. 0. 0. 0.]"
   ]
  },
  {
   "cell_type": "code",
   "execution_count": 5,
   "metadata": {},
   "outputs": [
    {
     "name": "stdout",
     "output_type": "stream",
     "text": [
      "Null vector: [0. 0. 0. 0. 0. 0. 0. 0. 0. 0.]\n",
      "Updated vector: [ 0.  0.  0.  0.  0.  0. 11.  0.  0.  0.]\n"
     ]
    }
   ],
   "source": [
    "#Create a null array of size 10\n",
    "vector_10 = np.zeros(10)\n",
    "print(f\"Null vector: {vector_10}\")\n",
    "\n",
    "vector_10[6] = 11\n",
    "print(f\"Updated vector: {vector_10}\")"
   ]
  },
  {
   "cell_type": "markdown",
   "metadata": {},
   "source": [
    "4. **Write a Python program to reverse an array (first element becomes last)**\n",
    "\n",
    "    Original array:\\\n",
    "    [12 13 14 15 16 17 18 19 20 21 22 23 24 25 26 27 28 29 30 31 32 33 34 35 36 37]\\\n",
    "    Reverse array:\\\n",
    "    [37 36 35 34 33 32 31 30 29 28 27 26 25 24 23 22 21 20 19 18 17 16 15 14 13 12]"
   ]
  },
  {
   "cell_type": "code",
   "execution_count": 6,
   "metadata": {},
   "outputs": [
    {
     "name": "stdout",
     "output_type": "stream",
     "text": [
      "Original array:\n",
      "[12 13 14 15 16 17 18 19 20 21 22 23 24 25 26 27 28 29 30 31 32 33 34 35\n",
      " 36 37]\n",
      "Reversed array:\n",
      "[37 36 35 34 33 32 31 30 29 28 27 26 25 24 23 22 21 20 19 18 17 16 15 14\n",
      " 13 12]\n"
     ]
    }
   ],
   "source": [
    "#Create an array ranging from 12 to 37\n",
    "original_arr = np.arange(12,38)\n",
    "print(f\"Original array:\\n{original_arr}\")\n",
    "\n",
    "#Reverse the array\n",
    "reversed_arr = original_arr[::-1]\n",
    "print(f\"Reversed array:\\n{reversed_arr}\")"
   ]
  },
  {
   "cell_type": "markdown",
   "metadata": {},
   "source": [
    "5. **Write a Python program to create a 2d array with 1 on the border and 0 inside**\n",
    "\n",
    "    Expected Output:\\\n",
    "    Original array:\\\n",
    "    [[ 1. 1. 1. 1. 1.]\\\n",
    "    [ 1. 1. 1. 1. 1.]\\\n",
    "    [ 1. 1. 1. 1. 1.]\\\n",
    "    [ 1. 1. 1. 1. 1.]\\\n",
    "    [ 1. 1. 1. 1. 1.]]\n",
    "\n",
    "    1 on the border and 0 inside in the array\\\n",
    "    [[ 1. 1. 1. 1. 1.]\\\n",
    "    [ 1. 0. 0. 0. 1.]\\\n",
    "    [ 1. 0. 0. 0. 1.]\\\n",
    "    [ 1. 0. 0. 0. 1.]\\\n",
    "    [ 1. 1. 1. 1. 1.]]"
   ]
  },
  {
   "cell_type": "code",
   "execution_count": 7,
   "metadata": {},
   "outputs": [],
   "source": [
    "#Method to create bordered arrays 1 as border\n",
    "def bordered_arrays_one(rows: int, cols: int):\n",
    "    \"\"\"\n",
    "        Description:\n",
    "            Creates a 2d array of dimension rows x cols.\n",
    "            Sets the border values to 1, and insides as 0\n",
    "        \n",
    "        Parameter:\n",
    "            rows: row dimension\n",
    "            cols: column dimension\n",
    "        \n",
    "        Return:\n",
    "            None\n",
    "    \"\"\"\n",
    "    if rows < 3 or cols < 3:\n",
    "        print(\"Rows and columns must be greater than 2\")\n",
    "        return None\n",
    "    #create an array filled with 1 of dimension 5X5\n",
    "    border_arr = np.ones((rows,cols))\n",
    "    print(f\"Original array:\\n{border_arr}\")\n",
    "\n",
    "    #Set values inside border as 0\n",
    "    border_arr[1:-1,1:-1] = 0\n",
    "    print(f\"Bordered array:\\n{border_arr}\")"
   ]
  },
  {
   "cell_type": "code",
   "execution_count": 8,
   "metadata": {},
   "outputs": [
    {
     "name": "stdout",
     "output_type": "stream",
     "text": [
      "Original array:\n",
      "[[1. 1. 1. 1.]\n",
      " [1. 1. 1. 1.]\n",
      " [1. 1. 1. 1.]\n",
      " [1. 1. 1. 1.]\n",
      " [1. 1. 1. 1.]]\n",
      "Bordered array:\n",
      "[[1. 1. 1. 1.]\n",
      " [1. 0. 0. 1.]\n",
      " [1. 0. 0. 1.]\n",
      " [1. 0. 0. 1.]\n",
      " [1. 1. 1. 1.]]\n"
     ]
    }
   ],
   "source": [
    "#create bordered arrays using the bordered_arrays_one function\n",
    "bordered_arrays_one(5,4)"
   ]
  },
  {
   "cell_type": "markdown",
   "metadata": {},
   "source": [
    "6. **Write a Python program to add a border (filled with 0's) around an existing array**\n",
    "    Expected Output:\\\n",
    "    Original array:\\\n",
    "    [[ 1. 1. 1.]\\\n",
    "    [ 1. 1. 1.]\\\n",
    "    [ 1. 1. 1.]]\\\n",
    "    1 on the border and 0 inside in the array\\\n",
    "    [[ 0. 0. 0. 0. 0.]\\\n",
    "    [ 0. 1. 1. 1. 0.]\\\n",
    "    [ 0. 1. 1. 1. 0.]\\\n",
    "    [ 0. 1. 1. 1. 0.]\\\n",
    "    [ 0. 0. 0. 0. 0.]]"
   ]
  },
  {
   "cell_type": "code",
   "execution_count": 9,
   "metadata": {},
   "outputs": [],
   "source": [
    "#Method to create bordered arrays, 0 as border\n",
    "def bordered_arrays_zero(zero_arr: np.ndarray):\n",
    "    \"\"\"\n",
    "        Description:\n",
    "            Creates a 2d array of dimension rows x cols.\n",
    "            Sets the border values to 0, and insides as 1\n",
    "        \n",
    "        Parameter:\n",
    "            zero_arr: 2D array\n",
    "        \n",
    "        Return:\n",
    "            None\n",
    "    \"\"\"\n",
    "    if zero_arr.ndim != 2:\n",
    "        print(\"Must be a 2D array\")\n",
    "        return None\n",
    "    rows, cols = zero_arr.shape\n",
    "    if rows < 3 or cols < 3:\n",
    "        print(\"Rows and columns must be greater than 2\")\n",
    "        return None\n",
    "    #create an array filled with 0's\n",
    "    border_arr = np.zeros((rows+1,cols+1))\n",
    "\n",
    "    #Set values inside border as 1\n",
    "    border_arr[1:-1,1:-1] = 1\n",
    "    print(f\"Original array:\\n{zero_arr}\")\n",
    "    print(f\"Bordered array:\\n{border_arr}\")"
   ]
  },
  {
   "cell_type": "code",
   "execution_count": 10,
   "metadata": {},
   "outputs": [
    {
     "name": "stdout",
     "output_type": "stream",
     "text": [
      "Original array:\n",
      "[[1. 1. 1. 1. 1. 1.]\n",
      " [1. 1. 1. 1. 1. 1.]\n",
      " [1. 1. 1. 1. 1. 1.]\n",
      " [1. 1. 1. 1. 1. 1.]\n",
      " [1. 1. 1. 1. 1. 1.]]\n",
      "Bordered array:\n",
      "[[0. 0. 0. 0. 0. 0. 0.]\n",
      " [0. 1. 1. 1. 1. 1. 0.]\n",
      " [0. 1. 1. 1. 1. 1. 0.]\n",
      " [0. 1. 1. 1. 1. 1. 0.]\n",
      " [0. 1. 1. 1. 1. 1. 0.]\n",
      " [0. 0. 0. 0. 0. 0. 0.]]\n"
     ]
    }
   ],
   "source": [
    "#create bordered arrays using the bordered_arrays_zero function\n",
    "sample_zero_arr = np.ones((5,6))\n",
    "bordered_arrays_zero(sample_zero_arr)"
   ]
  },
  {
   "cell_type": "markdown",
   "metadata": {},
   "source": [
    "7. **Write a Python program to create a 8x8 matrix and fill it with a checkerboard pattern**\n",
    "\n",
    "    Checkerboard pattern:\\\n",
    "    [[0 1 0 1 0 1 0 1]\\\n",
    "    [1 0 1 0 1 0 1 0]\\\n",
    "    [0 1 0 1 0 1 0 1]\\\n",
    "    [1 0 1 0 1 0 1 0]\\\n",
    "    [0 1 0 1 0 1 0 1]\\\n",
    "    [1 0 1 0 1 0 1 0]\\\n",
    "    [0 1 0 1 0 1 0 1]\\\n",
    "    [1 0 1 0 1 0 1 0]]"
   ]
  },
  {
   "cell_type": "code",
   "execution_count": 11,
   "metadata": {},
   "outputs": [
    {
     "name": "stdout",
     "output_type": "stream",
     "text": [
      "Checkerboard pattern:\n",
      "[[0. 1. 0. 1. 0. 1. 0. 1.]\n",
      " [1. 0. 1. 0. 1. 0. 1. 0.]\n",
      " [0. 1. 0. 1. 0. 1. 0. 1.]\n",
      " [1. 0. 1. 0. 1. 0. 1. 0.]\n",
      " [0. 1. 0. 1. 0. 1. 0. 1.]\n",
      " [1. 0. 1. 0. 1. 0. 1. 0.]\n",
      " [0. 1. 0. 1. 0. 1. 0. 1.]\n",
      " [1. 0. 1. 0. 1. 0. 1. 0.]]\n"
     ]
    }
   ],
   "source": [
    "#create size 8x8 array filled with 1's\n",
    "checkerboard = np.ones((8,8))\n",
    "\n",
    "#Set alternate values to 0\n",
    "checkerboard[::2, ::2] = 0\n",
    "checkerboard[1::2, 1::2] = 0\n",
    "\n",
    "print(f\"Checkerboard pattern:\\n{checkerboard}\")"
   ]
  },
  {
   "cell_type": "markdown",
   "metadata": {},
   "source": [
    "8. **Write a Python program to convert a list and tuple into arrays**\n",
    "\n",
    "    List to array:\\\n",
    "    [1 2 3 4 5 6 7 8]\\\n",
    "    Tuple to array:\\\n",
    "    [[8 4 6]\\\n",
    "    [1 2 3]]"
   ]
  },
  {
   "cell_type": "code",
   "execution_count": 12,
   "metadata": {},
   "outputs": [],
   "source": [
    "# Function to convert list or tuple to array\n",
    "def list_tuple_to_array(iterable_data: list|tuple):\n",
    "    \"\"\"\n",
    "        Description:\n",
    "            Converts a given list|tuple to array\n",
    "        \n",
    "        Parameter:\n",
    "            iterable_data: it can be a list or tuple\n",
    "        \n",
    "        Return:\n",
    "            None\n",
    "    \"\"\"\n",
    "    array_from_iterable = np.asarray(iterable_data)\n",
    "    print(f\"The iterable given: {iterable_data}\")\n",
    "    print(f\"The array created:\\n{array_from_iterable}\")"
   ]
  },
  {
   "cell_type": "code",
   "execution_count": 13,
   "metadata": {},
   "outputs": [
    {
     "name": "stdout",
     "output_type": "stream",
     "text": [
      "The iterable given: [1, 2, 3, 4, 5, 6, 7, 8]\n",
      "The array created:\n",
      "[1 2 3 4 5 6 7 8]\n",
      "The iterable given: ((8, 4, 6), (1, 2, 3))\n",
      "The array created:\n",
      "[[8 4 6]\n",
      " [1 2 3]]\n"
     ]
    }
   ],
   "source": [
    "# Using the list_tuple_to_array function convert list and tuple to array\n",
    "sample_list = [1, 2, 3, 4, 5, 6, 7, 8]\n",
    "sample_tuple = ((8,4,6),(1,2,3))\n",
    "\n",
    "list_tuple_to_array(sample_list)\n",
    "list_tuple_to_array(sample_tuple)"
   ]
  },
  {
   "cell_type": "markdown",
   "metadata": {},
   "source": [
    "9. **Write a Python program to append values to the end of an array**\n",
    "\n",
    "    Expected Output:\\\n",
    "    Original array:\\\n",
    "    [10 20 30]\\\n",
    "    After append values to the end of the array:\\\n",
    "    [10 20 30 40 50 60 70 80 90]"
   ]
  },
  {
   "cell_type": "code",
   "execution_count": 14,
   "metadata": {},
   "outputs": [],
   "source": [
    "# A function to append list of values to end of array\n",
    "def append_to_array(arr: np.ndarray, list_of_values: list):\n",
    "    \"\"\"\n",
    "        Description:\n",
    "            appends the list of values to the array\n",
    "        \n",
    "        Parameter:\n",
    "            arr: a numpy array\n",
    "            list_of_values: a list of values to append to array\n",
    "        \n",
    "        Return:\n",
    "            None\n",
    "    \"\"\"\n",
    "    arr_updated = np.append(arr, list_of_values)\n",
    "    print(f\"Orignal array:\\n{arr}\")\n",
    "    print(f\"List of values to append:\\n{list_of_values}\")\n",
    "    print(f\"Updated array:\\n{arr_updated}\")"
   ]
  },
  {
   "cell_type": "code",
   "execution_count": 15,
   "metadata": {},
   "outputs": [
    {
     "name": "stdout",
     "output_type": "stream",
     "text": [
      "Orignal array:\n",
      "[10 20 30]\n",
      "List of values to append:\n",
      "[40, 50, 60, 70, 80, 90]\n",
      "Updated array:\n",
      "[10 20 30 40 50 60 70 80 90]\n"
     ]
    }
   ],
   "source": [
    "# Using append_to_array function append list of values to array\n",
    "sample_list = [40, 50, 60, 70, 80, 90]\n",
    "sample_arr = np.array([10, 20, 30])\n",
    "append_to_array(sample_arr, sample_list)"
   ]
  },
  {
   "cell_type": "markdown",
   "metadata": {},
   "source": [
    "10. **Write a Python program to find the real and imaginary parts of an array of complex numbers**\n",
    "\n",
    "    Expected Output:\\\n",
    "    Original array\\\n",
    "    [ 1.00000000+0.j 0.70710678+0.70710678j]\\\n",
    "    Real part of the array:\\\n",
    "    [ 1. 0.70710678]\\\n",
    "    Imaginary part of the array:\\\n",
    "    [ 0. 0.70710678]"
   ]
  },
  {
   "cell_type": "code",
   "execution_count": 16,
   "metadata": {},
   "outputs": [],
   "source": [
    "# function to extract real and imaginary part of numpy array of complex numbers\n",
    "def real_imaginary(complex_arr: np.ndarray):\n",
    "    \"\"\"\n",
    "        Description:\n",
    "            Extracts real and imaginary part of the array\n",
    "        \n",
    "        Parameter:\n",
    "            complex_arr: a numpy array of complex numbers\n",
    "        \n",
    "        Return:\n",
    "            None\n",
    "    \"\"\"\n",
    "    real_arr = complex_arr.real\n",
    "    imaginary_arr = complex_arr.imag\n",
    "    print(f\"Original array:\\n{complex_arr}\")\n",
    "    print(f\"Real part:\\n{real_arr}\")\n",
    "    print(f\"Imaginary part:\\n{imaginary_arr}\")"
   ]
  },
  {
   "cell_type": "code",
   "execution_count": 17,
   "metadata": {},
   "outputs": [
    {
     "name": "stdout",
     "output_type": "stream",
     "text": [
      "Original array:\n",
      "[1.+4.j 2.+1.j 4.+5.j]\n",
      "Real part:\n",
      "[1. 2. 4.]\n",
      "Imaginary part:\n",
      "[4. 1. 5.]\n"
     ]
    }
   ],
   "source": [
    "# Using the above method extract real and imaginary parts of complex array\n",
    "complex_arr = np.array([1+4j, 2+1j, 4+5j])\n",
    "real_imaginary(complex_arr)"
   ]
  },
  {
   "cell_type": "markdown",
   "metadata": {},
   "source": [
    "11. **Write a Python program to find the number of elements of an array, length of one array element in bytes and total bytes consumed by the elements**\n",
    "\n",
    "    Expected Output:\\\n",
    "    Size of the array: 3\\\n",
    "    Length of one array element in bytes: 8\\\n",
    "    Total bytes consumed by the elements of the array: 24"
   ]
  },
  {
   "cell_type": "code",
   "execution_count": 18,
   "metadata": {},
   "outputs": [],
   "source": [
    "# A function to display the size, size as bytes, element size as bytes of an array\n",
    "def array_size_info(arr: np.ndarray):\n",
    "    \"\"\"\n",
    "        Description:\n",
    "            displays the size, size as bytes, element size as bytes of an array\n",
    "        \n",
    "        Parameter:\n",
    "            arr: a numpy array\n",
    "        \n",
    "        Return:\n",
    "            None\n",
    "    \"\"\"\n",
    "    arr_size = arr.size\n",
    "    element_size_as_bytes = arr.itemsize\n",
    "    arr_size_as_bytes = arr_size * element_size_as_bytes\n",
    "    print(f\"Size of the array: {arr_size}\")\n",
    "    print(f\"Length of one array element in bytes: {element_size_as_bytes}\")\n",
    "    print(f\"Total bytes consumed by the elements of the array: {arr_size_as_bytes}\")"
   ]
  },
  {
   "cell_type": "code",
   "execution_count": 19,
   "metadata": {},
   "outputs": [
    {
     "name": "stdout",
     "output_type": "stream",
     "text": [
      "Size of the array: 3\n",
      "Length of one array element in bytes: 8\n",
      "Total bytes consumed by the elements of the array: 24\n"
     ]
    }
   ],
   "source": [
    "# Using the above method get arrays size info\n",
    "sample_arr = np.array([1.4, 1, 5])\n",
    "array_size_info(sample_arr)"
   ]
  },
  {
   "cell_type": "markdown",
   "metadata": {},
   "source": [
    "12. **Write a Python program to find common values between two arrays**\n",
    "\n",
    "    Expected Output:\\\n",
    "    Array1: [ 0 10 20 40 60]\\\n",
    "    Array2: [10, 30, 40]\\\n",
    "    Common values between two arrays: [10 40]"
   ]
  },
  {
   "cell_type": "code",
   "execution_count": 20,
   "metadata": {},
   "outputs": [],
   "source": [
    "# Function that finds the intersecting values of 2 arrays\n",
    "def common_values(arr1: np.ndarray, arr2: np.ndarray):\n",
    "    \"\"\"\n",
    "        Description:\n",
    "            finds the intersecting values of 2 arrays\n",
    "        \n",
    "        Parameter:\n",
    "            arr1, arr2: 2 numpy arrays\n",
    "        \n",
    "        Return:\n",
    "            None\n",
    "    \"\"\"\n",
    "    common_val = np.intersect1d(arr1, arr2)\n",
    "    print(f\"Array 1: {arr1}\")\n",
    "    print(f\"Array 2: {arr2}\")\n",
    "    print(f\"Common values between the 2 arrays: {common_val}\")"
   ]
  },
  {
   "cell_type": "code",
   "execution_count": 21,
   "metadata": {},
   "outputs": [
    {
     "name": "stdout",
     "output_type": "stream",
     "text": [
      "Array 1: [ 0 10 20 40 60]\n",
      "Array 2: [10 30 40]\n",
      "Common values between the 2 arrays: [10 40]\n"
     ]
    }
   ],
   "source": [
    "# Using the above method get common values of 2 arrays\n",
    "sample_arr1 = np.array([0, 10, 20, 40, 60])\n",
    "sample_arr2 = np.array([10, 30, 40])\n",
    "common_values(sample_arr1, sample_arr2)"
   ]
  },
  {
   "cell_type": "markdown",
   "metadata": {},
   "source": [
    "13. **Write a Python program to find the set difference of two arrays. The set difference will return the sorted, unique values in array1 that are not in array2**\n",
    "\n",
    "    Expected Output:\\\n",
    "    Array1: [ 0 10 20 40 60 80]\\\n",
    "    Array2: [10, 30, 40, 50, 70, 90]\\\n",
    "    Set difference between two arrays: [ 0 20 60 80]"
   ]
  },
  {
   "cell_type": "code",
   "execution_count": 22,
   "metadata": {},
   "outputs": [],
   "source": [
    "# Function that finds the array difference of 2 arrays\n",
    "def arr_diff(arr1: np.ndarray, arr2: np.ndarray):\n",
    "    \"\"\"\n",
    "        Description:\n",
    "            finds the array difference of 2 arrays\n",
    "        \n",
    "        Parameter:\n",
    "            arr1, arr2: 2 numpy arrays\n",
    "        \n",
    "        Return:\n",
    "            None\n",
    "    \"\"\"\n",
    "    setdiff = np.setdiff1d(arr1, arr2)\n",
    "    print(f\"Array 1: {arr1}\")\n",
    "    print(f\"Array 2: {arr2}\")\n",
    "    print(f\"Set difference between 2 arrays: {setdiff}\")"
   ]
  },
  {
   "cell_type": "code",
   "execution_count": 23,
   "metadata": {},
   "outputs": [
    {
     "name": "stdout",
     "output_type": "stream",
     "text": [
      "Array 1: [ 0 10 20 40 60 80]\n",
      "Array 2: [10 30 40 50 70 90]\n",
      "Set difference between 2 arrays: [ 0 20 60 80]\n"
     ]
    }
   ],
   "source": [
    "# Using the above method get array difference of 2 arrays\n",
    "sample_arr1 = np.array([0, 10, 20, 40, 60, 80])\n",
    "sample_arr2 = np.array([10, 30, 40, 50, 70, 90])\n",
    "arr_diff(sample_arr1, sample_arr2)"
   ]
  },
  {
   "cell_type": "markdown",
   "metadata": {},
   "source": [
    "14. **Write a Python program to find the set exclusive-or of two arrays. Set exclusive-or will return the sorted, unique values that are in only one (not both) of the input arrays**\n",
    "\n",
    "    Array1: [ 0 10 20 40 60 80]\\\n",
    "    Array2: [10, 30, 40, 50, 70]\\\n",
    "    Unique values that are in only one (not both) of the input arrays:\\\n",
    "    [ 0 20 30 50 60 70 80]"
   ]
  },
  {
   "cell_type": "code",
   "execution_count": 24,
   "metadata": {},
   "outputs": [],
   "source": [
    "# Function that finds the set exclusive-or of 2 arrays\n",
    "def arr_diff(arr1: np.ndarray, arr2: np.ndarray):\n",
    "    \"\"\"\n",
    "        Description:\n",
    "            finds the set exclusive-or of 2 arrays\n",
    "        \n",
    "        Parameter:\n",
    "            arr1, arr2: 2 numpy arrays\n",
    "        \n",
    "        Return:\n",
    "            None\n",
    "    \"\"\"\n",
    "    setdiff = np.setxor1d(arr1, arr2)\n",
    "    print(f\"Array 1: {arr1}\")\n",
    "    print(f\"Array 2: {arr2}\")\n",
    "    print(f\"Unique values that are in only one (not both) of the input arrays:\\n{setdiff}\")"
   ]
  },
  {
   "cell_type": "code",
   "execution_count": 25,
   "metadata": {},
   "outputs": [
    {
     "name": "stdout",
     "output_type": "stream",
     "text": [
      "Array 1: [ 0 10 20 40 60 80]\n",
      "Array 2: [10 30 40 50 70]\n",
      "Unique values that are in only one (not both) of the input arrays:\n",
      "[ 0 20 30 50 60 70 80]\n"
     ]
    }
   ],
   "source": [
    "# Using the above method get set exclusive-or of 2 arrays\n",
    "sample_arr1 = np.array([0, 10, 20, 40, 60, 80])\n",
    "sample_arr2 = np.array([10, 30, 40, 50, 70])\n",
    "arr_diff(sample_arr1, sample_arr2)"
   ]
  },
  {
   "cell_type": "markdown",
   "metadata": {},
   "source": [
    "15. **Write a Python program compare two arrays using numpy**\n",
    "\n",
    "    Array a: [1 2]\\\n",
    "    Array b: [4 5]\\\n",
    "    a > b\\\n",
    "    [False False]\\\n",
    "    a >= b\\\n",
    "    [False False]\\\n",
    "    a < b\\\n",
    "    [ True True]\\\n",
    "    a <= b\\\n",
    "    [ True True]"
   ]
  },
  {
   "cell_type": "code",
   "execution_count": 26,
   "metadata": {},
   "outputs": [],
   "source": [
    "# function to compare 2 arrays\n",
    "def compare_arr(arr_a: np.ndarray, arr_b: np.ndarray):\n",
    "    \"\"\"\n",
    "        Description:\n",
    "            Compares 2 arrays\n",
    "        \n",
    "        Parameter:\n",
    "            arr1, arr2: 2 numpy arrays\n",
    "        \n",
    "        Return:\n",
    "            None\n",
    "    \"\"\"\n",
    "    print(f\"Array a: {arr_a}\")\n",
    "    print(f\"Array b: {arr_b}\")\n",
    "    print(f\"a > b:\\n{arr_a > arr_b}\")\n",
    "    print(f\"a >= b:\\n{arr_a >= arr_b}\")\n",
    "    print(f\"a < b:\\n{arr_a < arr_b}\")\n",
    "    print(f\"a <= b:\\n{arr_a <= arr_b}\")"
   ]
  },
  {
   "cell_type": "code",
   "execution_count": 27,
   "metadata": {},
   "outputs": [
    {
     "name": "stdout",
     "output_type": "stream",
     "text": [
      "Array a: [1 2]\n",
      "Array b: [4 5]\n",
      "a > b:\n",
      "[False False]\n",
      "a >= b:\n",
      "[False False]\n",
      "a < b:\n",
      "[ True  True]\n",
      "a <= b:\n",
      "[ True  True]\n"
     ]
    }
   ],
   "source": [
    "# Using above function to compare 2 arrays\n",
    "sample_a = np.array([1, 2])\n",
    "sample_b = np.array([4, 5])\n",
    "compare_arr(sample_a, sample_b)"
   ]
  },
  {
   "cell_type": "markdown",
   "metadata": {},
   "source": [
    "15. b)**Write a Python program to save a NumPy array to a text file**"
   ]
  },
  {
   "cell_type": "code",
   "execution_count": 28,
   "metadata": {},
   "outputs": [
    {
     "name": "stdout",
     "output_type": "stream",
     "text": [
      "Array:\n",
      " [[ 0  5 10 15]\n",
      " [20 25 30 35]\n",
      " [40 45 50 55]\n",
      " [60 65 70 75]\n",
      " [80 85 90 95]]\n"
     ]
    }
   ],
   "source": [
    "# Create an array\n",
    "sample_arr = np.arange(0,100, step=5)\n",
    "arr2D = sample_arr.reshape((5,4)) \n",
    "print('Array:\\n', arr2D)\n",
    " \n",
    "# Saving the array in a text file\n",
    "file = open(\"array_file.txt\", \"w\")\n",
    "content = str(arr2D)\n",
    "file.write(content)\n",
    "file.close()"
   ]
  },
  {
   "cell_type": "markdown",
   "metadata": {},
   "source": [
    "16. **Write a Python program to create a contiguous flattened array**\n",
    "\n",
    "    Original array:\\\n",
    "    [[10 20 30]\\\n",
    "    [20 40 50]]\\\n",
    "    New flattened array:\\\n",
    "    [10 20 30 20 40 50]"
   ]
  },
  {
   "cell_type": "code",
   "execution_count": 29,
   "metadata": {},
   "outputs": [],
   "source": [
    "# Function to flatten any given numpy array\n",
    "\n",
    "def flatten_arr(arr: np.ndarray):\n",
    "    \"\"\"\n",
    "        Description:\n",
    "            Flattens the array to 1D\n",
    "        \n",
    "        Parameter:\n",
    "            arr: a numpy array\n",
    "        \n",
    "        Return:\n",
    "            None\n",
    "    \"\"\"\n",
    "    flattened_arr = arr.flatten()\n",
    "    print(f\"Original array:\\n{arr}\")\n",
    "    print(f\"Flattened array:\\n{flattened_arr}\")"
   ]
  },
  {
   "cell_type": "code",
   "execution_count": 30,
   "metadata": {},
   "outputs": [
    {
     "name": "stdout",
     "output_type": "stream",
     "text": [
      "Original array:\n",
      "[[[ 1  2  3]\n",
      "  [ 4  5  6]\n",
      "  [ 7  8  9]]\n",
      "\n",
      " [[10 11 12]\n",
      "  [13 14 15]\n",
      "  [16 17 18]]\n",
      "\n",
      " [[19 20 21]\n",
      "  [22 23 24]\n",
      "  [25 26 27]]]\n",
      "Flattened array:\n",
      "[ 1  2  3  4  5  6  7  8  9 10 11 12 13 14 15 16 17 18 19 20 21 22 23 24\n",
      " 25 26 27]\n"
     ]
    }
   ],
   "source": [
    "# Using above function flatten a multi dimensional array\n",
    "arr1D = np.arange(1,28)\n",
    "multi_dim_arr = arr1D.reshape((3,3,3))\n",
    "flatten_arr(multi_dim_arr)"
   ]
  },
  {
   "cell_type": "markdown",
   "metadata": {},
   "source": [
    "17. **Write a Python program to change the data type of an array**\n",
    "\n",
    "    Expected Output:\\\n",
    "    [[ 2 4 6]\\\n",
    "    [ 6 8 10]]\\\n",
    "    Data type of the array x is: int32\\\n",
    "    New Type: float64\\\n",
    "    [[ 2. 4. 6.]\\\n",
    "    [ 6. 8. 10.]]"
   ]
  },
  {
   "cell_type": "code",
   "execution_count": 31,
   "metadata": {},
   "outputs": [
    {
     "name": "stdout",
     "output_type": "stream",
     "text": [
      "Original array:\n",
      "[[ 2  4  6]\n",
      " [ 6  8 10]]\n",
      "Data type of array: int32\n",
      "New type 1: float64\n",
      "Float64 array:\n",
      "[[ 2.  4.  6.]\n",
      " [ 6.  8. 10.]]\n",
      "New type 2: int16\n",
      "Int16 array:\n",
      "[[ 2  4  6]\n",
      " [ 6  8 10]]\n"
     ]
    }
   ],
   "source": [
    "# create an int array\n",
    "int32_arr = np.array([[2,4,6],[6,8,10]], dtype=np.int32)\n",
    "float64_arr = int32_arr.astype('float64')\n",
    "int16_arr = int32_arr.astype('int16')\n",
    "\n",
    "print(f\"Original array:\\n{int32_arr}\")\n",
    "print(f\"Data type of array: {int32_arr.dtype}\")\n",
    "print(f\"New type 1: {float64_arr.dtype}\")\n",
    "print(f\"Float64 array:\\n{float64_arr}\")\n",
    "print(f\"New type 2: {int16_arr.dtype}\")\n",
    "print(f\"Int16 array:\\n{int16_arr}\")"
   ]
  },
  {
   "cell_type": "markdown",
   "metadata": {},
   "source": [
    "18. **Write a Python program to create a 3-D array with ones on a diagonal and zeros elsewhere**\n",
    "\n",
    "    Expected Output:\\\n",
    "    [[ 1. 0. 0.]\\\n",
    "    [ 0. 1. 0.]\\\n",
    "    [ 0. 0. 1.]]"
   ]
  },
  {
   "cell_type": "code",
   "execution_count": 32,
   "metadata": {},
   "outputs": [
    {
     "name": "stdout",
     "output_type": "stream",
     "text": [
      "Matrix:\n",
      "[[1. 0. 0.]\n",
      " [0. 1. 0.]\n",
      " [0. 0. 1.]]\n"
     ]
    }
   ],
   "source": [
    "# Create 3x3 matrix of zeroes\n",
    "matrix_3x3 = np.zeros((3,3))\n",
    "\n",
    "#Set Diagonal's value as 1\n",
    "np.fill_diagonal(matrix_3x3, 1)\n",
    "\n",
    "print(f\"Matrix:\\n{matrix_3x3}\")"
   ]
  },
  {
   "cell_type": "markdown",
   "metadata": {},
   "source": [
    "19. **Write a Python program to create an array which looks like below array**\n",
    "\n",
    "    Expected Output:\\\n",
    "    [[ 0. 0. 0.]\\\n",
    "    [ 1. 0. 0.]\\\n",
    "    [ 1. 1. 0.]"
   ]
  },
  {
   "cell_type": "code",
   "execution_count": 33,
   "metadata": {},
   "outputs": [
    {
     "name": "stdout",
     "output_type": "stream",
     "text": [
      "Matrix:\n",
      "[[0. 0. 0.]\n",
      " [1. 0. 0.]\n",
      " [1. 1. 0.]]\n"
     ]
    }
   ],
   "source": [
    "# Set values above the lower triangle to 0 using the tril() method\n",
    "lower_triangle_matrix = np.tril(np.ones((3,3)), k=-1)\n",
    "\n",
    "print(f\"Matrix:\\n{lower_triangle_matrix}\")"
   ]
  },
  {
   "cell_type": "markdown",
   "metadata": {},
   "source": [
    "20. **Write a Python program to concatenate two 2-dimensional arrays**\n",
    "\n",
    "    Expected Output:\\\n",
    "    Sample arrays:\\\n",
    "    ([[0 1 3]\\\n",
    "      [5 7 9]],\\\n",
    "     [[0 2 4]\\\n",
    "      [6 8 10]])\\\n",
    "    Expected Output:\\\n",
    "    [[ 0 1 3 0 2 4]\\\n",
    "     [ 5 7 9 6 8 10]]"
   ]
  },
  {
   "cell_type": "code",
   "execution_count": 34,
   "metadata": {},
   "outputs": [],
   "source": [
    "# A function that concatenates 2 arrays along the column axis\n",
    "def concat_arr(arr1: np.ndarray, arr2: np.ndarray):\n",
    "    \"\"\"\n",
    "        Description:\n",
    "            concatenates 2 arrays along the column axis\n",
    "        \n",
    "        Parameter:\n",
    "            arr1, arr2: 2 numpy arrays\n",
    "        \n",
    "        Return:\n",
    "            None\n",
    "    \"\"\"\n",
    "    arr = np.hstack((arr1, arr2))\n",
    "    print(f\"Array 1:\\n{arr1}\\nArray 2:\\n{arr2}\")\n",
    "    print(f\"Concatenated Array:\\n{arr}\")"
   ]
  },
  {
   "cell_type": "code",
   "execution_count": 35,
   "metadata": {},
   "outputs": [
    {
     "name": "stdout",
     "output_type": "stream",
     "text": [
      "Array 1:\n",
      "[[0 1 3]\n",
      " [5 7 9]]\n",
      "Array 2:\n",
      "[[ 0  2  4]\n",
      " [ 6  8 10]]\n",
      "Concatenated Array:\n",
      "[[ 0  1  3  0  2  4]\n",
      " [ 5  7  9  6  8 10]]\n"
     ]
    }
   ],
   "source": [
    "# Using the above method concat 2 arrays\n",
    "arr1 = np.array([[0, 1, 3], [5, 7, 9]])\n",
    "arr2 = np.array([[0, 2, 4], [6, 8, 10]])\n",
    "\n",
    "concat_arr(arr1, arr2)"
   ]
  },
  {
   "cell_type": "markdown",
   "metadata": {},
   "source": [
    "21. **Write a Python program to make an array immutable (read-only)**\n",
    "\n",
    "    Expected Output:\\\n",
    "    Test the array is read-only or not:\\\n",
    "    Try to change the value of the first element:\\\n",
    "    Traceback (most recent call last):\\\n",
    "    File \"19236bd0-0bd9-11e7-a232-c706d0968eb6.py\", line 6, in x[0] = 1\\\n",
    "    ValueError: assignment destination is read-only"
   ]
  },
  {
   "cell_type": "code",
   "execution_count": 36,
   "metadata": {},
   "outputs": [],
   "source": [
    "# A function to make an array read only\n",
    "def make_readonly(arr: np.ndarray):\n",
    "    \"\"\"\n",
    "        Description:\n",
    "            Makes the array read only\n",
    "        \n",
    "        Parameter:\n",
    "            arr: a numpy array\n",
    "        \n",
    "        Return:\n",
    "            None\n",
    "    \"\"\"\n",
    "    arr.flags.writeable = False\n",
    "    print(f\"Test the array is read-only or not:\")\n",
    "    print(f\"Trying to change the value of the first element:\")\n",
    "    try:\n",
    "        arr[0] = 9\n",
    "    except ValueError as e:\n",
    "        print(f\"ValueError: {e}\")"
   ]
  },
  {
   "cell_type": "code",
   "execution_count": 37,
   "metadata": {},
   "outputs": [
    {
     "name": "stdout",
     "output_type": "stream",
     "text": [
      "Test the array is read-only or not:\n",
      "Trying to change the value of the first element:\n",
      "ValueError: assignment destination is read-only\n"
     ]
    }
   ],
   "source": [
    "# Use the above function to make an array read only\n",
    "sample_arr = np.array([1,2,3,4,5,6])\n",
    "make_readonly(sample_arr)"
   ]
  },
  {
   "cell_type": "markdown",
   "metadata": {},
   "source": [
    "22. **Write a Python program to create an array of (3, 4) shape, multiply every element value by 3 and display the new array**\n",
    "\n",
    "    Expected Output:\\\n",
    "    Original array elements:\\\n",
    "    [[ 0 1 2 3]\\\n",
    "     [ 4 5 6 7]\\\n",
    "     [ 8 9 10 11]]\\\n",
    "    New array elements:\\\n",
    "    [[ 0 3 6 9]\\\n",
    "     [12 15 18 21]\\\n",
    "     [24 27 30 33]]"
   ]
  },
  {
   "cell_type": "code",
   "execution_count": 38,
   "metadata": {},
   "outputs": [
    {
     "name": "stdout",
     "output_type": "stream",
     "text": [
      "Original array:\n",
      "[[ 0  1  2  3]\n",
      " [ 4  5  6  7]\n",
      " [ 8  9 10 11]]\n",
      "Updated array:\n",
      "[[ 0  3  6  9]\n",
      " [12 15 18 21]\n",
      " [24 27 30 33]]\n"
     ]
    }
   ],
   "source": [
    "# Create an array of shape(3,4)\n",
    "array2d = np.arange(0,12).reshape(3,4)\n",
    "print(f\"Original array:\\n{array2d}\")\n",
    "# Multiply by 3\n",
    "array2d = array2d * 3\n",
    "print(f\"Updated array:\\n{array2d}\")"
   ]
  },
  {
   "cell_type": "markdown",
   "metadata": {},
   "source": [
    "23. **Write a Python program to convert a NumPy array into Python list structure**\n",
    "\n",
    "    Expected Output:\\\n",
    "    Original array elements:\\\n",
    "    [[0 1]\\\n",
    "    [2 3]\\\n",
    "    [4 5]]\\\n",
    "    Array to list:\\\n",
    "    [[0, 1], [2, 3], [4, 5]]"
   ]
  },
  {
   "cell_type": "code",
   "execution_count": 39,
   "metadata": {},
   "outputs": [],
   "source": [
    "# Function to convert numpy array to list\n",
    "def np_to_list(arr: np.ndarray):\n",
    "    \"\"\"\n",
    "        Description:\n",
    "            Convert array to list\n",
    "        \n",
    "        Parameter:\n",
    "            arr: a numpy array\n",
    "        \n",
    "        Return:\n",
    "            None\n",
    "    \"\"\"\n",
    "    list_from_arr = arr.tolist()\n",
    "    print(f\"Array:\\n{arr}\")\n",
    "    print(f\"List:\\n{list_from_arr}\")"
   ]
  },
  {
   "cell_type": "code",
   "execution_count": 40,
   "metadata": {},
   "outputs": [
    {
     "name": "stdout",
     "output_type": "stream",
     "text": [
      "Array:\n",
      "[[0 1]\n",
      " [2 3]\n",
      " [4 5]]\n",
      "List:\n",
      "[[0, 1], [2, 3], [4, 5]]\n"
     ]
    }
   ],
   "source": [
    "# Using the np_to_list() function convert array to list\n",
    "sample_arr = np.arange(0,6).reshape(3,2)\n",
    "np_to_list(sample_arr)"
   ]
  },
  {
   "cell_type": "markdown",
   "metadata": {},
   "source": [
    "24. **Write a Python program to change the float NumPy array precision to 3**\n",
    "\n",
    "    Expected Output:\\\n",
    "    Original array elements:\\\n",
    "    [ 0.26153123 0.52760141 0.5718299 0.5927067 0.7831874 0.69746349 0.35399976 0.99469633 0.0694458 0.54711478]\\\n",
    "    Print array values with precision 3:\\\n",
    "    [ 0.262 0.528 0.572 0.593 0.783 0.697 0.354 0.995 0.069 0.547]"
   ]
  },
  {
   "cell_type": "code",
   "execution_count": 41,
   "metadata": {},
   "outputs": [],
   "source": [
    "# Function to change floating point precision of an array to 3\n",
    "def change_precision_3(float_arr: np.ndarray):\n",
    "    \"\"\"\n",
    "        Description:\n",
    "            changes floating point precision of float array to 3\n",
    "        \n",
    "        Parameter:\n",
    "            arr: a numpy float array\n",
    "        \n",
    "        Return:\n",
    "            None\n",
    "    \"\"\"\n",
    "    float_arr_precision3 = float_arr.round(3)\n",
    "    print(f\"Original array:\\n{float_arr}\")\n",
    "    print(f\"Precision 3:\\n{float_arr_precision3}\")"
   ]
  },
  {
   "cell_type": "code",
   "execution_count": 42,
   "metadata": {},
   "outputs": [
    {
     "name": "stdout",
     "output_type": "stream",
     "text": [
      "Original array:\n",
      "[0.26153123 0.52760141 0.5718299  0.5927067  0.7831874  0.69746349\n",
      " 0.35399976 0.99469633 0.0694458  0.54711478]\n",
      "Precision 3:\n",
      "[0.262 0.528 0.572 0.593 0.783 0.697 0.354 0.995 0.069 0.547]\n"
     ]
    }
   ],
   "source": [
    "# Use above function to change decimal precision\n",
    "float_arr = np.array([0.26153123, 0.52760141, 0.5718299, 0.5927067, 0.7831874, 0.69746349, 0.35399976, 0.99469633, 0.0694458, 0.54711478])\n",
    "change_precision_3(float_arr)"
   ]
  },
  {
   "cell_type": "markdown",
   "metadata": {},
   "source": [
    "25. **Write a Python program to suppresses the use of scientific notation for small numbers in numpy array**\n",
    "\n",
    "    Expected Output:\\\n",
    "    Original array elements:\\\n",
    "    [ 1.60000000e-10 1.60000000e+00 1.20000000e+03 2.35000000e-01]\\\n",
    "    Print array values with precision 3:\\\n",
    "    [ 0. 1.6 1200. 0.235]"
   ]
  },
  {
   "cell_type": "code",
   "execution_count": 44,
   "metadata": {},
   "outputs": [],
   "source": [
    "def suppress_sci_notation(arr: np.ndarray):\n",
    "    \"\"\"\n",
    "        Description:\n",
    "            Suppresses the scientific notation of array.\n",
    "            Sets precision to 3\n",
    "        \n",
    "        Parameter:\n",
    "            arr: a numpy array\n",
    "        \n",
    "        Return:\n",
    "            None\n",
    "    \"\"\"\n",
    "    print(f\"Before supressing:\\n{arr}\")\n",
    "    np.set_printoptions(precision=3, suppress=True)\n",
    "    print(f\"After supressing:\\n{arr}\")"
   ]
  },
  {
   "cell_type": "code",
   "execution_count": 45,
   "metadata": {},
   "outputs": [
    {
     "name": "stdout",
     "output_type": "stream",
     "text": [
      "Before supressing:\n",
      "[1.60e-10 1.60e+00 1.20e+03 2.35e-01]\n",
      "After supressing:\n",
      "[   0.       1.6   1200.       0.235]\n"
     ]
    }
   ],
   "source": [
    "# Use the above method to suppress the scientific notation\n",
    "sci_array = np.array([1.60000000e-10, 1.60000000e+00, 1.20000000e+03, 2.35000000e-01])\n",
    "suppress_sci_notation(sci_array)"
   ]
  },
  {
   "cell_type": "markdown",
   "metadata": {},
   "source": [
    "26. **Write a Python program to how to add an extra column to an numpy array**\n",
    "\n",
    "    Expected Output:\\\n",
    "    [[ 10 20 30 100]\\\n",
    "    [ 40 50 60 200]]"
   ]
  },
  {
   "cell_type": "code",
   "execution_count": 47,
   "metadata": {},
   "outputs": [
    {
     "name": "stdout",
     "output_type": "stream",
     "text": [
      "Original array:\n",
      "[[10 20 30]\n",
      " [40 50 60]]\n",
      "Column to add:\n",
      "[[100]\n",
      " [200]]\n",
      "Original array:\n",
      "[[ 10  20  30 100]\n",
      " [ 40  50  60 200]]\n"
     ]
    }
   ],
   "source": [
    "# create a 2x3 matrix\n",
    "original_arr = np.arange(10,61,step=10).reshape((2,3))\n",
    "\n",
    "# create a array to add as column\n",
    "column = np.array([100, 200]).reshape((2,1))\n",
    "\n",
    "# Set axis = 1 to append column wise\n",
    "updated_arr = np.append(original_arr, column, axis=1)\n",
    "\n",
    "print(f\"Original array:\\n{original_arr}\")\n",
    "print(f\"Column to add:\\n{column}\")\n",
    "print(f\"Original array:\\n{updated_arr}\")"
   ]
  },
  {
   "cell_type": "markdown",
   "metadata": {},
   "source": [
    "27. **Write a Python program to remove specific elements in a numpy array**\n",
    "\n",
    "    Expected Output:\\\n",
    "    Original array:\\\n",
    "    [ 10 20 30 40 50 60 70 80 90 100]\\\n",
    "    Delete first, fourth and fifth elements:\\\n",
    "    [ 20 30 60 70 80 90 100]"
   ]
  },
  {
   "cell_type": "code",
   "execution_count": 48,
   "metadata": {},
   "outputs": [
    {
     "name": "stdout",
     "output_type": "stream",
     "text": [
      "Original array:\n",
      "[ 10  20  30  40  50  60  70  80  90 100]\n",
      "Delete first, fourth and fifth elements:\n",
      "[ 20  30  60  70  80  90 100]\n"
     ]
    }
   ],
   "source": [
    "# create the mentioned array\n",
    "original_arr = np.arange(10,101,step=10)\n",
    "print(f\"Original array:\\n{original_arr}\")\n",
    "\n",
    "# delete 1st, 4th, 5th using delete method\n",
    "update_arr = np.delete(original_arr, [0,3,4])\n",
    "print(f\"Delete first, fourth and fifth elements:\\n{update_arr}\")"
   ]
  }
 ],
 "metadata": {
  "interpreter": {
   "hash": "b89b5cfaba6639976dc87ff2fec6d58faec662063367e2c229c520fe71072417"
  },
  "kernelspec": {
   "display_name": "Python 3.10.2 64-bit",
   "language": "python",
   "name": "python3"
  },
  "language_info": {
   "codemirror_mode": {
    "name": "ipython",
    "version": 3
   },
   "file_extension": ".py",
   "mimetype": "text/x-python",
   "name": "python",
   "nbconvert_exporter": "python",
   "pygments_lexer": "ipython3",
   "version": "3.10.2"
  },
  "orig_nbformat": 4
 },
 "nbformat": 4,
 "nbformat_minor": 2
}
